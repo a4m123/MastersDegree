{
  "cells": [
    {
      "cell_type": "markdown",
      "metadata": {
        "id": "view-in-github",
        "colab_type": "text"
      },
      "source": [
        "<a href=\"https://colab.research.google.com/github/a4m123/MastersDegree/blob/main/8%D0%92%D0%9C22_%D0%9C%D0%B0%D0%BB%D0%BA%D0%B8%D0%BD_%D0%A1%D0%9F%D0%9F3(%D1%86%D0%B8%D1%84%D1%80%D1%8B).ipynb\" target=\"_parent\"><img src=\"https://colab.research.google.com/assets/colab-badge.svg\" alt=\"Open In Colab\"/></a>"
      ]
    },
    {
      "cell_type": "code",
      "execution_count": null,
      "metadata": {
        "id": "RcpU6EdAKpez"
      },
      "outputs": [],
      "source": [
        "from keras.datasets import mnist\n",
        "import matplotlib.pyplot as plt\n",
        "import matplotlib.image as mpimg #проверяем свои изображения\n",
        "import numpy as np\n",
        "import sys"
      ]
    },
    {
      "cell_type": "code",
      "execution_count": null,
      "metadata": {
        "colab": {
          "base_uri": "https://localhost:8080/"
        },
        "id": "tCBffpX3Kpe6",
        "outputId": "6646102f-9e8d-4d2a-8a42-bb352c2d5615"
      },
      "outputs": [
        {
          "output_type": "stream",
          "name": "stdout",
          "text": [
            "Downloading data from https://storage.googleapis.com/tensorflow/tf-keras-datasets/mnist.npz\n",
            "11490434/11490434 [==============================] - 1s 0us/step\n"
          ]
        }
      ],
      "source": [
        "(x_train, y_train), (x_test, y_test) = mnist.load_data()\n",
        "x_train = x_train.astype(np.int64) # изображение рукописной цифры\n",
        "x_train = (x_train) / 255\n",
        "y_train = y_train.astype(np.int64) # символ цифры\n",
        "x_test = x_test.astype(np.int64) # изображение рукописной цифры \n",
        "x_test = (x_test) / 255\n",
        "y_test = y_test.astype(np.int64) # символ цифры\n",
        "\n",
        "testAmount = 10000 # тестовая выборка\n",
        "trainAmount = 60000 # обучающая выборка"
      ]
    },
    {
      "cell_type": "code",
      "execution_count": null,
      "metadata": {
        "id": "tSBpZUxIKpe-"
      },
      "outputs": [],
      "source": [
        "class NN:\n",
        "    def __init__(self, rate, inputs, hiddens, outputs):\n",
        "        self.rate = rate\n",
        "        self.inputs = inputs + 1\n",
        "        self.hiddens = hiddens\n",
        "        self.outputs = outputs\n",
        "        self.wih = np.random.rand(self.hiddens, self.inputs) - 0.5\n",
        "        self.who = np.random.rand(self.outputs, self.hiddens) - 0.5\n",
        "        self.activationFunction = lambda x: 1 / (1 + np.exp(-x))\n",
        "    \n",
        "    def train(self, inputsList, targets_list):\n",
        "        inputsList = np.concatenate((inputsList, [1]), axis=0)\n",
        "        inputs = np.transpose(np.array(inputsList, ndmin=2))\n",
        "        targets = np.transpose(np.array(targets_list, ndmin=2))\n",
        "        hiddenResults = self.activationFunction(np.dot(self.wih, inputs))\n",
        "        outputResults = self.activationFunction(np.dot(self.who, hiddenResults))\n",
        "        outputErrors = targets - outputResults\n",
        "        hiddenErrors = np.dot(np.transpose(self.who), outputErrors)\n",
        "        self.who = self.who + self.rate * np.dot((outputErrors * outputResults * (1.0 - outputResults)), np.transpose(hiddenResults))\n",
        "        self.wih = self.wih + self.rate * np.dot((hiddenErrors * hiddenResults * (1.0 - hiddenResults)), np.transpose(inputs))\n",
        "\n",
        "    def query(self, inputsList):\n",
        "        inputsList = np.concatenate((inputsList, [1]), axis=0)\n",
        "        inputs = np.transpose(np.array(inputsList, ndmin=2))\n",
        "        hiddenResults = self.activationFunction(np.dot(self.wih, inputs))\n",
        "        outputResults = self.activationFunction(np.dot(self.who, hiddenResults))\n",
        "        return outputResults\n",
        "    \n",
        "    def setLearningRate(self, rate):\n",
        "        self.rate = rate"
      ]
    },
    {
      "cell_type": "code",
      "execution_count": null,
      "metadata": {
        "id": "wa9wlGPNKpfB"
      },
      "outputs": [],
      "source": [
        "NN1 = NN(0.1, 784, 50, 10)"
      ]
    },
    {
      "cell_type": "code",
      "execution_count": null,
      "metadata": {
        "id": "eHGEfZFZKpfE"
      },
      "outputs": [],
      "source": [
        "def train(n):\n",
        "    target = np.zeros(10)\n",
        "    target[y_train[n]] = 1\n",
        "    query = np.array(x_train[n]).reshape(784)\n",
        "    NN1.train(query, target)\n",
        "\n",
        "def test(n):\n",
        "    query = np.array(x_test[n]).reshape(784)\n",
        "    return NN1.query(query)\n",
        "\n",
        "def epochTrain():\n",
        "    for i in range(trainAmount):\n",
        "        train(i)\n",
        "        sys.stdout.write(\"Обучение: %s\\r\" %i)\n",
        "        sys.stdout.flush()\n"
      ]
    },
    {
      "cell_type": "code",
      "execution_count": null,
      "metadata": {
        "colab": {
          "base_uri": "https://localhost:8080/"
        },
        "id": "dIDzQZqYKpfF",
        "outputId": "27d9a2e8-29ee-4770-955a-552476e4096d"
      },
      "outputs": [
        {
          "output_type": "stream",
          "name": "stdout",
          "text": []
        }
      ],
      "source": [
        "epochTrain()"
      ]
    },
    {
      "cell_type": "code",
      "execution_count": null,
      "metadata": {
        "id": "KYBQxaPdKpfH"
      },
      "outputs": [],
      "source": [
        "def epochTest():\n",
        "    incorrect = []\n",
        "    precision = 0\n",
        "    for i in range(testAmount):\n",
        "        answer = test(i)\n",
        "        if (answer.argmax() == y_test[i]):\n",
        "            precision += 1\n",
        "        else:\n",
        "            incorrect.append(i)\n",
        "    return precision / testAmount, incorrect"
      ]
    },
    {
      "cell_type": "code",
      "execution_count": null,
      "metadata": {
        "colab": {
          "base_uri": "https://localhost:8080/"
        },
        "id": "wnQPRqPgKpfJ",
        "outputId": "72f411e1-b950-4280-db54-d41f41537f51"
      },
      "outputs": [
        {
          "output_type": "stream",
          "name": "stdout",
          "text": [
            "точность =  0.9376\n"
          ]
        }
      ],
      "source": [
        "accuracy, incorrectList = epochTest()\n",
        "print(\"точность = \", accuracy)\n"
      ]
    },
    {
      "cell_type": "code",
      "execution_count": null,
      "metadata": {
        "colab": {
          "base_uri": "https://localhost:8080/"
        },
        "id": "_D8UG2idKpfK",
        "outputId": "5b9c1f2f-c9c5-4e2a-85a9-4a17917d5720"
      },
      "outputs": [
        {
          "output_type": "stream",
          "name": "stdout",
          "text": [
            "[8, 33, 38, 92, 111, 124, 149, 172, 175, 217, 233, 241, 247, 259, 282, 290, 300, 318, 321, 340, 352, 406, 412, 444, 445, 478, 479, 495, 507, 543, 547, 551, 565, 571, 578, 582, 583, 591, 605, 610, 613, 619, 628, 629, 646, 658, 659, 684, 689, 691, 707, 717, 720, 740, 741, 810, 844, 874, 881, 898, 926, 938, 939, 944, 947, 950, 951, 956, 959, 965, 975, 998, 1003, 1012, 1014, 1032, 1039, 1044, 1062, 1068, 1073, 1096, 1107, 1112, 1114, 1119, 1173, 1181, 1191, 1192, 1194, 1198, 1204, 1206, 1226, 1232, 1242, 1243, 1247, 1252, 1260, 1283, 1289, 1299, 1319, 1326, 1328, 1378, 1393, 1406, 1433, 1440, 1466, 1467, 1494, 1500, 1522, 1525, 1527, 1530, 1549, 1553, 1571, 1581, 1604, 1609, 1621, 1640, 1641, 1644, 1671, 1678, 1681, 1696, 1709, 1711, 1717, 1718, 1721, 1722, 1741, 1754, 1759, 1772, 1790, 1813, 1828, 1839, 1850, 1855, 1857, 1868, 1871, 1878, 1883, 1899, 1901, 1911, 1930, 1938, 1940, 1941, 1952, 1969, 1970, 1973, 1984, 2001, 2016, 2024, 2035, 2037, 2040, 2043, 2044, 2053, 2063, 2070, 2073, 2098, 2099, 2109, 2115, 2118, 2129, 2130, 2135, 2138, 2148, 2182, 2185, 2186, 2189, 2224, 2266, 2272, 2293, 2299, 2325, 2339, 2369, 2371, 2380, 2393, 2394, 2406, 2414, 2422, 2425, 2433, 2447, 2462, 2488, 2526, 2559, 2573, 2574, 2578, 2604, 2607, 2610, 2625, 2631, 2648, 2654, 2668, 2695, 2730, 2743, 2758, 2770, 2771, 2780, 2802, 2812, 2832, 2850, 2863, 2877, 2896, 2905, 2907, 2914, 2915, 2921, 2925, 2927, 2945, 2946, 2953, 2970, 2977, 2990, 2995, 3005, 3060, 3062, 3073, 3100, 3110, 3114, 3117, 3130, 3133, 3136, 3145, 3157, 3166, 3189, 3206, 3225, 3240, 3254, 3262, 3269, 3288, 3289, 3316, 3330, 3333, 3336, 3376, 3405, 3422, 3437, 3490, 3498, 3503, 3510, 3514, 3520, 3525, 3533, 3549, 3558, 3559, 3565, 3573, 3580, 3597, 3604, 3626, 3636, 3674, 3681, 3688, 3702, 3716, 3718, 3726, 3730, 3751, 3757, 3758, 3767, 3769, 3776, 3778, 3780, 3794, 3796, 3801, 3806, 3808, 3811, 3818, 3838, 3848, 3853, 3855, 3862, 3869, 3876, 3893, 3902, 3906, 3926, 3941, 3946, 3951, 3962, 3968, 3976, 3986, 3994, 4000, 4007, 4017, 4027, 4065, 4068, 4072, 4075, 4078, 4086, 4093, 4131, 4140, 4152, 4159, 4176, 4180, 4199, 4201, 4205, 4211, 4212, 4224, 4238, 4248, 4271, 4289, 4297, 4300, 4306, 4315, 4341, 4355, 4356, 4369, 4374, 4382, 4415, 4425, 4433, 4435, 4449, 4451, 4477, 4498, 4536, 4540, 4567, 4575, 4578, 4601, 4615, 4639, 4671, 4690, 4695, 4743, 4751, 4761, 4763, 4785, 4807, 4814, 4823, 4827, 4829, 4837, 4860, 4863, 4874, 4876, 4879, 4880, 4886, 4915, 4939, 4943, 4950, 4956, 4966, 4981, 4990, 4995, 5054, 5067, 5078, 5140, 5217, 5246, 5331, 5457, 5495, 5562, 5564, 5593, 5600, 5601, 5617, 5620, 5634, 5642, 5649, 5654, 5691, 5709, 5714, 5718, 5734, 5735, 5749, 5752, 5835, 5854, 5858, 5866, 5887, 5888, 5906, 5913, 5922, 5926, 5936, 5937, 5955, 5957, 5972, 5973, 5975, 5981, 5982, 5985, 5992, 5997, 6024, 6035, 6042, 6043, 6056, 6059, 6065, 6071, 6081, 6091, 6093, 6109, 6157, 6166, 6172, 6173, 6391, 6418, 6421, 6426, 6480, 6505, 6555, 6558, 6568, 6569, 6574, 6577, 6597, 6598, 6599, 6625, 6645, 6651, 6730, 6740, 6768, 6769, 6785, 6796, 6906, 6926, 6981, 7094, 7121, 7130, 7268, 7432, 7434, 7451, 7459, 7498, 7518, 7539, 7637, 7691, 7800, 7811, 7812, 7849, 7857, 7858, 7886, 7899, 7902, 7905, 7915, 7917, 7945, 7990, 8020, 8059, 8062, 8064, 8069, 8081, 8091, 8094, 8095, 8115, 8246, 8272, 8277, 8339, 8406, 8408, 8497, 8519, 8520, 8522, 8639, 9006, 9009, 9010, 9015, 9019, 9024, 9031, 9032, 9036, 9043, 9045, 9046, 9209, 9280, 9316, 9427, 9482, 9513, 9534, 9560, 9587, 9624, 9634, 9642, 9655, 9698, 9716, 9719, 9729, 9731, 9733, 9745, 9749, 9751, 9752, 9768, 9770, 9777, 9779, 9808, 9811, 9832, 9858, 9867, 9890, 9893, 9905, 9925, 9941, 9944, 9953, 9970, 9975, 9980, 9982]\n"
          ]
        }
      ],
      "source": [
        "print(incorrectList)"
      ]
    },
    {
      "cell_type": "markdown",
      "metadata": {
        "id": "Qb5aQxphKpfM"
      },
      "source": [
        "# Смотрим цифры MNIST, пробуем свои"
      ]
    },
    {
      "cell_type": "code",
      "execution_count": null,
      "metadata": {
        "colab": {
          "base_uri": "https://localhost:8080/",
          "height": 543
        },
        "id": "HJ6Mma6IKpfO",
        "outputId": "1a4817e7-a83d-4b95-a955-e62f6c21f506"
      },
      "outputs": [
        {
          "output_type": "stream",
          "name": "stdout",
          "text": [
            "[[5.74160029e-05]\n",
            " [5.75526668e-01]\n",
            " [2.91302320e-02]\n",
            " [1.05907244e-01]\n",
            " [5.24567837e-05]\n",
            " [6.02367282e-05]\n",
            " [2.07836888e-04]\n",
            " [6.44746031e-02]\n",
            " [7.75125067e-03]\n",
            " [7.57732870e-02]]\n",
            "На изображении цифра: 7\n",
            "Ответ нейронки:  1\n",
            "Насколько NN уверена в своём ответе: [0.57552667]\n",
            "Что NN считает касательно истинного ответа: [0.0644746]\n",
            "MSE касательно истинного ответа:  [0.87520777]\n",
            "\n"
          ]
        },
        {
          "output_type": "display_data",
          "data": {
            "text/plain": [
              "<Figure size 432x288 with 1 Axes>"
            ],
            "image/png": "[encoded data removed]"
          },
          "metadata": {
            "needs_background": "light"
          }
        }
      ],
      "source": [
        "whatToCheck = 111\n",
        "queryVector = np.array(x_test[whatToCheck]).reshape(784)\n",
        "answer = NN1.query(queryVector)\n",
        "print(answer)\n",
        "print(\"На изображении цифра:\", y_test[whatToCheck])\n",
        "print(\"Ответ нейронки: \", answer.argmax())\n",
        "print(\"Насколько NN уверена в своём ответе:\",answer[answer.argmax()])\n",
        "print(\"Что NN считает касательно истинного ответа:\", answer[y_test[whatToCheck]])\n",
        "print(\"MSE касательно истинного ответа: \", (answer[y_test[whatToCheck]] - 1) ** 2)\n",
        "plt.imshow(x_test[whatToCheck], cmap='gray')\n",
        "print()"
      ]
    },
    {
      "cell_type": "markdown",
      "source": [
        "площадь квартиры\n",
        "удалённость от метро\n",
        "благоустройство\n",
        "\n",
        "--------------\n",
        "стоимость 1 м2 (90000 руб)\n"
      ],
      "metadata": {
        "id": "LeDxxIniNBIt"
      }
    },
    {
      "cell_type": "code",
      "execution_count": null,
      "metadata": {
        "id": "12j_E6niKpfQ",
        "outputId": "a30781d7-db89-4311-fd67-ecd34553f139"
      },
      "outputs": [
        {
          "name": "stdout",
          "output_type": "stream",
          "text": [
            "На изображении цифра: 1 - 0\n",
            "[[9.89551757e-01]\n",
            " [1.01324426e-04]\n",
            " [8.21732484e-05]\n",
            " [1.71554546e-03]\n",
            " [6.85014541e-05]\n",
            " [1.07543248e-02]\n",
            " [1.00298628e-03]\n",
            " [3.05485309e-03]\n",
            " [9.67363024e-04]\n",
            " [2.42033188e-04]]\n",
            "Ответ нейронки:  0\n",
            "Насколько NN уверена в своём ответе: [0.98955176]\n",
            "Что NN считает касательно истинного ответа: [0.98955176]\n",
            "MSE касательно истинного ответа:  [0.00010917]\n",
            "\n",
            "На изображении цифра: 1 - 1\n",
            "[[9.77463807e-05]\n",
            " [2.86020614e-01]\n",
            " [4.00533160e-03]\n",
            " [3.36215433e-03]\n",
            " [1.86984361e-06]\n",
            " [1.52920792e-02]\n",
            " [7.33494290e-06]\n",
            " [4.52366235e-02]\n",
            " [4.04068655e-02]\n",
            " [2.75875503e-03]]\n",
            "Ответ нейронки:  1\n",
            "Насколько NN уверена в своём ответе: [0.28602061]\n",
            "Что NN считает касательно истинного ответа: [0.28602061]\n",
            "MSE касательно истинного ответа:  [0.50976656]\n",
            "\n",
            "На изображении цифра: 1 - 2\n",
            "[[9.20975119e-04]\n",
            " [1.20950847e-03]\n",
            " [7.51396356e-01]\n",
            " [1.91216121e-01]\n",
            " [1.15637082e-05]\n",
            " [3.06814703e-03]\n",
            " [1.31198532e-05]\n",
            " [4.05204938e-04]\n",
            " [2.30000480e-03]\n",
            " [2.30249145e-05]]\n",
            "Ответ нейронки:  2\n",
            "Насколько NN уверена в своём ответе: [0.75139636]\n",
            "Что NN считает касательно истинного ответа: [0.75139636]\n",
            "MSE касательно истинного ответа:  [0.06180377]\n",
            "\n",
            "На изображении цифра: 1 - 3\n",
            "[[7.97983475e-05]\n",
            " [1.91751466e-03]\n",
            " [1.07189654e-04]\n",
            " [2.52571649e-01]\n",
            " [1.44589101e-06]\n",
            " [9.89870817e-02]\n",
            " [2.40945536e-04]\n",
            " [4.79699773e-02]\n",
            " [1.83023344e-03]\n",
            " [1.15639284e-03]]\n",
            "Ответ нейронки:  3\n",
            "Насколько NN уверена в своём ответе: [0.25257165]\n",
            "Что NN считает касательно истинного ответа: [0.25257165]\n",
            "MSE касательно истинного ответа:  [0.55864914]\n",
            "\n",
            "На изображении цифра: 1 - 4\n",
            "[[1.20403998e-01]\n",
            " [1.37909421e-03]\n",
            " [2.51550103e-02]\n",
            " [1.13904138e-03]\n",
            " [8.56982503e-06]\n",
            " [6.27785678e-04]\n",
            " [9.84248764e-03]\n",
            " [1.54848959e-03]\n",
            " [9.63151866e-01]\n",
            " [4.18484613e-04]]\n",
            "Ответ нейронки:  8\n",
            "Насколько NN уверена в своём ответе: [0.96315187]\n",
            "Что NN считает касательно истинного ответа: [8.56982503e-06]\n",
            "MSE касательно истинного ответа:  [0.99998286]\n",
            "\n",
            "На изображении цифра: 1 - 5\n",
            "[[5.39282503e-04]\n",
            " [2.30783217e-03]\n",
            " [7.49181372e-04]\n",
            " [5.97524809e-03]\n",
            " [2.96946959e-03]\n",
            " [7.44678576e-01]\n",
            " [3.84845620e-01]\n",
            " [5.98828946e-06]\n",
            " [9.08398864e-03]\n",
            " [3.03722935e-05]]\n",
            "Ответ нейронки:  5\n",
            "Насколько NN уверена в своём ответе: [0.74467858]\n",
            "Что NN считает касательно истинного ответа: [0.74467858]\n",
            "MSE касательно истинного ответа:  [0.06518903]\n",
            "\n",
            "На изображении цифра: 1 - 6\n",
            "[[8.06040364e-02]\n",
            " [2.80251396e-04]\n",
            " [4.29011027e-03]\n",
            " [4.96991411e-07]\n",
            " [1.47515160e-05]\n",
            " [4.80712057e-01]\n",
            " [5.74718196e-02]\n",
            " [7.83501100e-06]\n",
            " [3.49150864e-02]\n",
            " [3.31569288e-02]]\n",
            "Ответ нейронки:  5\n",
            "Насколько NN уверена в своём ответе: [0.48071206]\n",
            "Что NN считает касательно истинного ответа: [0.05747182]\n",
            "MSE касательно истинного ответа:  [0.88835937]\n",
            "\n",
            "На изображении цифра: 1 - 7\n",
            "[[2.53962327e-04]\n",
            " [5.25729643e-04]\n",
            " [4.84809143e-01]\n",
            " [1.88680215e-01]\n",
            " [1.35379774e-05]\n",
            " [4.10557761e-05]\n",
            " [3.90661506e-06]\n",
            " [2.42746114e-01]\n",
            " [1.65285970e-05]\n",
            " [1.91575154e-04]]\n",
            "Ответ нейронки:  2\n",
            "Насколько NN уверена в своём ответе: [0.48480914]\n",
            "Что NN считает касательно истинного ответа: [0.24274611]\n",
            "MSE касательно истинного ответа:  [0.57343345]\n",
            "\n",
            "На изображении цифра: 1 - 8\n",
            "[[1.26598594e-02]\n",
            " [3.63419019e-04]\n",
            " [2.41654971e-02]\n",
            " [5.95540440e-01]\n",
            " [7.76626963e-06]\n",
            " [1.30861070e-04]\n",
            " [2.27832059e-04]\n",
            " [1.10736203e-02]\n",
            " [5.46509822e-02]\n",
            " [6.69945493e-04]]\n",
            "Ответ нейронки:  3\n",
            "Насколько NN уверена в своём ответе: [0.59554044]\n",
            "Что NN считает касательно истинного ответа: [0.05465098]\n",
            "MSE касательно истинного ответа:  [0.89368477]\n",
            "\n",
            "На изображении цифра: 1 - 9\n",
            "[[1.17022893e-03]\n",
            " [4.29122889e-04]\n",
            " [1.63335280e-03]\n",
            " [8.55082491e-01]\n",
            " [7.23580582e-04]\n",
            " [3.76556962e-05]\n",
            " [7.64128148e-04]\n",
            " [5.32611689e-02]\n",
            " [2.02784678e-04]\n",
            " [6.37700025e-03]]\n",
            "Ответ нейронки:  3\n",
            "Насколько NN уверена в своём ответе: [0.85508249]\n",
            "Что NN считает касательно истинного ответа: [0.006377]\n",
            "MSE касательно истинного ответа:  [0.98728667]\n",
            "\n",
            "На изображении цифра: 2 - 0\n",
            "[[6.33245929e-02]\n",
            " [1.63966662e-04]\n",
            " [7.34677298e-02]\n",
            " [1.73825156e-02]\n",
            " [4.67466091e-05]\n",
            " [3.55162598e-04]\n",
            " [9.71021366e-06]\n",
            " [7.53492283e-03]\n",
            " [1.00760474e-03]\n",
            " [3.69430166e-02]]\n",
            "Ответ нейронки:  2\n",
            "Насколько NN уверена в своём ответе: [0.07346773]\n",
            "Что NN считает касательно истинного ответа: [0.06332459]\n",
            "MSE касательно истинного ответа:  [0.87736082]\n",
            "\n",
            "На изображении цифра: 2 - 1\n",
            "[[8.62884978e-01]\n",
            " [2.46892264e-04]\n",
            " [8.63036915e-05]\n",
            " [1.78058544e-02]\n",
            " [2.98855979e-05]\n",
            " [2.43968676e-03]\n",
            " [8.01429486e-05]\n",
            " [4.94754639e-02]\n",
            " [3.34745697e-03]\n",
            " [1.10795942e-03]]\n",
            "Ответ нейронки:  0\n",
            "Насколько NN уверена в своём ответе: [0.86288498]\n",
            "Что NN считает касательно истинного ответа: [0.00024689]\n",
            "MSE касательно истинного ответа:  [0.99950628]\n",
            "\n",
            "На изображении цифра: 2 - 2\n",
            "[[3.36708603e-03]\n",
            " [1.86398715e-04]\n",
            " [3.16686439e-01]\n",
            " [6.58375865e-01]\n",
            " [1.18545806e-06]\n",
            " [1.82850683e-03]\n",
            " [1.18639682e-06]\n",
            " [3.91776964e-02]\n",
            " [1.25362007e-05]\n",
            " [1.25561670e-03]]\n",
            "Ответ нейронки:  3\n",
            "Насколько NN уверена в своём ответе: [0.65837587]\n",
            "Что NN считает касательно истинного ответа: [0.31668644]\n",
            "MSE касательно истинного ответа:  [0.46691742]\n",
            "\n",
            "На изображении цифра: 2 - 3\n",
            "[[2.81805695e-04]\n",
            " [1.19953109e-03]\n",
            " [2.09652913e-03]\n",
            " [9.85356756e-01]\n",
            " [9.38715400e-06]\n",
            " [3.38453113e-03]\n",
            " [1.11170546e-06]\n",
            " [3.71232506e-03]\n",
            " [1.04784560e-02]\n",
            " [6.56651979e-04]]\n",
            "Ответ нейронки:  3\n",
            "Насколько NN уверена в своём ответе: [0.98535676]\n",
            "Что NN считает касательно истинного ответа: [0.98535676]\n",
            "MSE касательно истинного ответа:  [0.00021442]\n",
            "\n",
            "На изображении цифра: 2 - 4\n",
            "[[1.15039220e-01]\n",
            " [3.26057273e-04]\n",
            " [1.51060477e-02]\n",
            " [2.39509735e-05]\n",
            " [2.65770475e-01]\n",
            " [3.33778929e-03]\n",
            " [1.45481520e-01]\n",
            " [1.23334277e-04]\n",
            " [1.91333837e-03]\n",
            " [1.99069499e-04]]\n",
            "Ответ нейронки:  4\n",
            "Насколько NN уверена в своём ответе: [0.26577047]\n",
            "Что NN считает касательно истинного ответа: [0.26577047]\n",
            "MSE касательно истинного ответа:  [0.539093]\n",
            "\n",
            "На изображении цифра: 2 - 5\n",
            "[[8.40344658e-01]\n",
            " [5.55889198e-04]\n",
            " [9.27402685e-02]\n",
            " [3.02437596e-02]\n",
            " [5.44818272e-06]\n",
            " [4.51552628e-05]\n",
            " [1.81886554e-04]\n",
            " [3.58704731e-02]\n",
            " [8.09585433e-04]\n",
            " [7.31569389e-04]]\n",
            "Ответ нейронки:  0\n",
            "Насколько NN уверена в своём ответе: [0.84034466]\n",
            "Что NN считает касательно истинного ответа: [4.51552628e-05]\n",
            "MSE касательно истинного ответа:  [0.99990969]\n",
            "\n",
            "На изображении цифра: 2 - 6\n",
            "[[9.22239642e-05]\n",
            " [7.40946287e-04]\n",
            " [8.66961770e-04]\n",
            " [1.10622293e-02]\n",
            " [1.00911976e-06]\n",
            " [2.04671578e-02]\n",
            " [2.67295860e-04]\n",
            " [6.19104679e-01]\n",
            " [6.93559293e-05]\n",
            " [1.68090598e-02]]\n",
            "Ответ нейронки:  7\n",
            "Насколько NN уверена в своём ответе: [0.61910468]\n",
            "Что NN считает касательно истинного ответа: [0.0002673]\n",
            "MSE касательно истинного ответа:  [0.99946548]\n",
            "\n",
            "На изображении цифра: 2 - 7\n",
            "[[1.16680128e-02]\n",
            " [8.11502152e-05]\n",
            " [3.74687258e-03]\n",
            " [2.02812973e-01]\n",
            " [2.06543122e-05]\n",
            " [1.51848220e-03]\n",
            " [6.36374831e-05]\n",
            " [3.01242688e-02]\n",
            " [2.79769264e-04]\n",
            " [3.49910012e-03]]\n",
            "Ответ нейронки:  3\n",
            "Насколько NN уверена в своём ответе: [0.20281297]\n",
            "Что NN считает касательно истинного ответа: [0.03012427]\n",
            "MSE касательно истинного ответа:  [0.94065893]\n",
            "\n",
            "На изображении цифра: 2 - 8\n",
            "[[6.59024675e-05]\n",
            " [2.09199866e-04]\n",
            " [5.41365084e-03]\n",
            " [6.29568233e-02]\n",
            " [8.57231229e-04]\n",
            " [2.97297712e-04]\n",
            " [3.03569151e-03]\n",
            " [1.49296760e-03]\n",
            " [5.27983850e-01]\n",
            " [7.36035875e-05]]\n",
            "Ответ нейронки:  8\n",
            "Насколько NN уверена в своём ответе: [0.52798385]\n",
            "Что NN считает касательно истинного ответа: [0.52798385]\n",
            "MSE касательно истинного ответа:  [0.22279925]\n",
            "\n",
            "На изображении цифра: 2 - 9\n",
            "[[1.80299851e-02]\n",
            " [2.37585913e-04]\n",
            " [8.47641209e-04]\n",
            " [7.85130691e-02]\n",
            " [1.83871165e-04]\n",
            " [8.59524730e-03]\n",
            " [3.12280737e-05]\n",
            " [7.72573493e-01]\n",
            " [2.12017625e-04]\n",
            " [1.68980026e-04]]\n",
            "Ответ нейронки:  7\n",
            "Насколько NN уверена в своём ответе: [0.77257349]\n",
            "Что NN считает касательно истинного ответа: [0.00016898]\n",
            "MSE касательно истинного ответа:  [0.99966207]\n",
            "\n",
            "0.4\n"
          ]
        },
        {
          "data": {
            "image/png": "[encoded data removed]",
            "text/plain": [
              "<Figure size 640x480 with 1 Axes>"
            ]
          },
          "metadata": {},
          "output_type": "display_data"
        }
      ],
      "source": [
        "accuracyOwn = 0\n",
        "total = 0\n",
        "for i in range (1, 3):\n",
        "    for j in range (0, 10):\n",
        "        total += 1\n",
        "        answer = list()\n",
        "        name = 'A:/'+str(i)+'-'+str(j)+'.png'\n",
        "        image = mpimg.imread(name)\n",
        "        image = 1 - image[:,:,0]\n",
        "        queryVector = np.array(image).reshape(784)\n",
        "        answer = NN1.query(queryVector)\n",
        "        if (answer.argmax() == j):\n",
        "            accuracyOwn += 1\n",
        "        print(\"На изображении цифра:\", i, \"-\", j)\n",
        "        print(answer)\n",
        "        print(\"Ответ нейронки: \", answer.argmax())\n",
        "        print(\"Насколько NN уверена в своём ответе:\",answer[answer.argmax()])\n",
        "        print(\"Что NN считает касательно истинного ответа:\", answer[j])\n",
        "        print(\"MSE касательно истинного ответа: \", (answer[j] - 1) ** 2)\n",
        "        print()\n",
        "        plt.imshow(image, cmap='gray')\n",
        "print(accuracyOwn / total)"
      ]
    },
    {
      "cell_type": "code",
      "execution_count": null,
      "metadata": {
        "id": "_npRR8XFKpfS",
        "outputId": "b8c5c673-98f2-4969-dfb8-e22ab5470eef"
      },
      "outputs": [
        {
          "data": {
            "image/png": "[encoded data removed]",
            "text/plain": [
              "<Figure size 640x480 with 15 Axes>"
            ]
          },
          "metadata": {},
          "output_type": "display_data"
        }
      ],
      "source": [
        "#plt show 10 train images\n",
        "for i in range(15):\n",
        "   number = np.random.randint(0, trainAmount)\n",
        "   plt.subplot(3, 5, i+1)\n",
        "   plt.imshow(x_train[number], cmap='gray')\n",
        "   plt.title(y_train[number])\n",
        "plt.show()"
      ]
    },
    {
      "cell_type": "code",
      "execution_count": null,
      "metadata": {
        "id": "D9DnaVvkKpfT",
        "outputId": "7408ddff-e186-4aed-e3b1-2cb7454d2fab"
      },
      "outputs": [
        {
          "name": "stdout",
          "output_type": "stream",
          "text": [
            "[0.81231051]\n",
            "MSE =  0.9923789197111431\n"
          ]
        },
        {
          "data": {
            "image/png": "[encoded data removed]",
            "text/plain": [
              "<Figure size 640x480 with 1 Axes>"
            ]
          },
          "metadata": {},
          "output_type": "display_data"
        }
      ],
      "source": [
        "name = 'A:/20(' + str(1) + ').png'\n",
        "image = mpimg.imread(name)\n",
        "image = image[:,:,0]\n",
        "queryVector = np.array(image/255).reshape(784)\n",
        "plt.imshow(image, cmap='gray')\n",
        "print(NN.query(queryVector)[NN.query(queryVector).argmax()])\n",
        "print(\"MSE = \", np.mean(np.square(1 - NN.query(queryVector)[3])))"
      ]
    }
  ],
  "metadata": {
    "kernelspec": {
      "display_name": "Python 3.10.5 64-bit",
      "language": "python",
      "name": "python3"
    },
    "language_info": {
      "codemirror_mode": {
        "name": "ipython",
        "version": 3
      },
      "file_extension": ".py",
      "mimetype": "text/x-python",
      "name": "python",
      "nbconvert_exporter": "python",
      "pygments_lexer": "ipython3",
      "version": "3.10.5"
    },
    "orig_nbformat": 4,
    "vscode": {
      "interpreter": {
        "hash": "7b3bf1292704a30555a15f3887231bce5fbd94c8c0b0429fdc25a7df4bafb998"
      }
    },
    "colab": {
      "provenance": [],
      "include_colab_link": true
    }
  },
  "nbformat": 4,
  "nbformat_minor": 0
}