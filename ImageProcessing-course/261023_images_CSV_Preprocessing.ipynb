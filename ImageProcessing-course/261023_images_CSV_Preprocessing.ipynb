{
 "cells": [
  {
   "cell_type": "markdown",
   "metadata": {},
   "source": [
    "# Full-gt.csv preprocessing"
   ]
  },
  {
   "cell_type": "code",
   "execution_count": 1,
   "metadata": {},
   "outputs": [
    {
     "name": "stdout",
     "output_type": "stream",
     "text": [
      "{'2_1': 1, '1_23': 2, '1_17': 3, '3_24': 4, '8_2_1': 5, '5_20': 6, '5_19_1': 7, '5_16': 8, '3_25': 9, '6_16': 10, '7_15': 11, '2_2': 12, '2_4': 13, '8_13_1': 14, '4_2_1': 15, '1_20_3': 16, '1_25': 17, '3_4': 18, '8_3_2': 19, '3_4_1': 20, '4_1_6': 21, '4_2_3': 22, '4_1_1': 23, '1_33': 24, '5_15_5': 25, '3_27': 26, '1_15': 27, '4_1_2_1': 28, '6_3_1': 29, '8_1_1': 30, '6_7': 31, '5_15_3': 32, '7_3': 33, '1_19': 34, '6_4': 35, '8_1_4': 36, '8_8': 37, '1_16': 38, '1_11_1': 39, '6_6': 40, '5_15_1': 41, '7_2': 42, '5_15_2': 43, '7_12': 44, '3_18': 45, '5_6': 46, '5_5': 47, '7_4': 48, '4_1_2': 49, '8_2_2': 50, '7_11': 51, '1_22': 52, '1_27': 53, '2_3_2': 54, '5_15_2_2': 55, '1_8': 56, '3_13': 57, '2_3': 58, '8_3_3': 59, '2_3_3': 60, '7_7': 61, '1_11': 62, '8_13': 63, '1_12_2': 64, '1_20': 65, '1_12': 66, '3_32': 67, '2_5': 68, '3_1': 69, '4_8_2': 70, '3_20': 71, '3_2': 72, '2_3_6': 73, '5_22': 74, '5_18': 75, '2_3_5': 76, '7_5': 77, '8_4_1': 78, '3_14': 79, '1_2': 80, '1_20_2': 81, '4_1_4': 82, '7_6': 83, '8_1_3': 84, '8_3_1': 85, '4_3': 86, '4_1_5': 87, '8_2_3': 88, '8_2_4': 89, '1_31': 90, '3_10': 91, '4_2_2': 92, '7_1': 93, '3_28': 94, '4_1_3': 95, '5_4': 96, '5_3': 97, '6_8_2': 98, '3_31': 99, '6_2': 100, '1_21': 101, '3_21': 102, '1_13': 103, '1_14': 104, '2_3_4': 105, '4_8_3': 106, '6_15_2': 107, '2_6': 108, '3_18_2': 109, '4_1_2_2': 110, '1_7': 111, '3_19': 112, '1_18': 113, '2_7': 114, '8_5_4': 115, '5_15_7': 116, '5_14': 117, '5_21': 118, '1_1': 119, '6_15_1': 120, '8_6_4': 121, '8_15': 122, '4_5': 123, '3_11': 124, '8_18': 125, '8_4_4': 126, '3_30': 127, '5_7_1': 128, '5_7_2': 129, '1_5': 130, '3_29': 131, '6_15_3': 132, '5_12': 133, '3_16': 134, '1_30': 135, '5_11': 136, '1_6': 137, '8_6_2': 138, '6_8_3': 139, '3_12': 140, '3_33': 141, '8_4_3': 142, '5_8': 143, '8_14': 144, '8_17': 145, '3_6': 146, '1_26': 147, '8_5_2': 148, '6_8_1': 149, '5_17': 150, '1_10': 151, '8_16': 152, '7_18': 153, '7_14': 154, '8_23': 155}\n",
      "155\n",
      "                          filename  x_from  y_from  width  height sign_class  \\\n",
      "0  autosave01_02_2012_09_13_33.jpg     649     376     18      18        2_1   \n",
      "1  autosave01_02_2012_09_13_34.jpg     671     356     20      21        2_1   \n",
      "2  autosave01_02_2012_09_13_35.jpg     711     332     27      26        2_1   \n",
      "3  autosave01_02_2012_09_13_36.jpg     764     290     37      36        2_1   \n",
      "4  autosave01_02_2012_09_13_36.jpg     684     384     17      17       1_23   \n",
      "\n",
      "   sign_id  \n",
      "0        0  \n",
      "1        0  \n",
      "2        0  \n",
      "3        0  \n",
      "4        1  \n"
     ]
    }
   ],
   "source": [
    "# PyTorch model training for traffic sign recognition and classification\n",
    "\n",
    "# load label_map.json\n",
    "import json\n",
    "import pandas as pd\n",
    "\n",
    "with open('../files/label_map.json') as json_file:\n",
    "    label_map = json.load(json_file)\n",
    "print(label_map)\n",
    "print(len(label_map))\n",
    "\n",
    "# load full-gt.csv\n",
    "full_gt = pd.read_csv('../files/full-gt.csv')\n",
    "print(full_gt.head())"
   ]
  },
  {
   "cell_type": "code",
   "execution_count": 2,
   "metadata": {},
   "outputs": [
    {
     "name": "stdout",
     "output_type": "stream",
     "text": [
      "                          filename  x_from  y_from  width  height sign_class  \\\n",
      "0  autosave01_02_2012_09_13_33.jpg     649     376    667     394        2_1   \n",
      "1  autosave01_02_2012_09_13_34.jpg     671     356    691     377        2_1   \n",
      "2  autosave01_02_2012_09_13_35.jpg     711     332    738     358        2_1   \n",
      "3  autosave01_02_2012_09_13_36.jpg     764     290    801     326        2_1   \n",
      "4  autosave01_02_2012_09_13_36.jpg     684     384    701     401       1_23   \n",
      "\n",
      "   sign_id  label  \n",
      "0        0    1.0  \n",
      "1        0    1.0  \n",
      "2        0    1.0  \n",
      "3        0    1.0  \n",
      "4        1    2.0  \n"
     ]
    }
   ],
   "source": [
    "# make a new column with the label_map values\n",
    "full_gt['label'] = full_gt['sign_class'].map(label_map)\n",
    "# change width value to x_from+width and height value to y_from+height\n",
    "full_gt['width'] = full_gt['x_from'] + full_gt['width']\n",
    "full_gt['height'] = full_gt['y_from'] + full_gt['height']\n",
    "print(full_gt.head())"
   ]
  },
  {
   "cell_type": "code",
   "execution_count": 3,
   "metadata": {},
   "outputs": [
    {
     "name": "stdout",
     "output_type": "stream",
     "text": [
      "1889\n",
      "5000\n",
      "rtsd-frames/autosave01_02_2012_09_16_49.jpg\n",
      "rtsd-frames/autosave10_10_2012_13_50_36_1.jpg\n"
     ]
    }
   ],
   "source": [
    "with open('../files/train_anno_reduced.json') as json_file:\n",
    "    train_anno = json.load(json_file)\n",
    "with open('../files/val_anno.json') as json_file:\n",
    "    val_anno = json.load(json_file)\n",
    "\n",
    "train_image_paths = []\n",
    "for image in train_anno['images']:\n",
    "    train_image_paths.append(image['file_name'])\n",
    "\n",
    "val_image_paths = []\n",
    "for image in val_anno['images']:\n",
    "    val_image_paths.append(image['file_name'])\n",
    "\n",
    "print(len(train_image_paths))\n",
    "print(len(val_image_paths))\n",
    "print(train_image_paths[0])\n",
    "print(val_image_paths[0])"
   ]
  },
  {
   "cell_type": "code",
   "execution_count": 4,
   "metadata": {},
   "outputs": [
    {
     "name": "stdout",
     "output_type": "stream",
     "text": [
      "1889\n",
      "autosave01_02_2012_09_16_49.jpg\n",
      "5000\n",
      "autosave10_10_2012_13_50_36_1.jpg\n"
     ]
    }
   ],
   "source": [
    "# leave only the image name (without rstd-frames)\n",
    "import os\n",
    "train_image_names = []\n",
    "for image in train_image_paths:\n",
    "    train_image_names.append(os.path.basename(image))\n",
    "print(len(train_image_names))\n",
    "print(train_image_names[0])\n",
    "\n",
    "val_image_names = []\n",
    "for image in val_image_paths:\n",
    "    val_image_names.append(os.path.basename(image))\n",
    "print(len(val_image_names))\n",
    "print(val_image_names[0])"
   ]
  },
  {
   "cell_type": "code",
   "execution_count": 5,
   "metadata": {},
   "outputs": [
    {
     "name": "stdout",
     "output_type": "stream",
     "text": [
      "                          filename  x_from  y_from  width  height sign_class  \\\n",
      "0  autosave01_02_2012_09_13_33.jpg     649     376    667     394        2_1   \n",
      "1  autosave01_02_2012_09_13_34.jpg     671     356    691     377        2_1   \n",
      "2  autosave01_02_2012_09_13_35.jpg     711     332    738     358        2_1   \n",
      "3  autosave01_02_2012_09_13_36.jpg     764     290    801     326        2_1   \n",
      "4  autosave01_02_2012_09_13_36.jpg     684     384    701     401       1_23   \n",
      "\n",
      "   sign_id  label image_type  \n",
      "0        0    1.0          2  \n",
      "1        0    1.0          2  \n",
      "2        0    1.0          2  \n",
      "3        0    1.0          2  \n",
      "4        1    2.0          2  \n"
     ]
    }
   ],
   "source": [
    "# make a new column with the image type\n",
    "full_gt['image_type'] = '2'\n",
    "full_gt.loc[full_gt['filename'].isin(train_image_names), 'image_type'] = '0'\n",
    "full_gt.loc[full_gt['filename'].isin(val_image_names), 'image_type'] = '1'\n",
    "\n",
    "# if 'label' is empty, then 'label' is '156.0'\n",
    "full_gt['label'] = full_gt['label'].fillna(156.0)\n",
    "\n",
    "print(full_gt.head())"
   ]
  },
  {
   "cell_type": "code",
   "execution_count": 6,
   "metadata": {},
   "outputs": [],
   "source": [
    "# save the new dataframe as full-gt2.csv\n",
    "full_gt.to_csv('../files/full-gt2-small.csv', index=False)"
   ]
  },
  {
   "cell_type": "code",
   "execution_count": 7,
   "metadata": {},
   "outputs": [
    {
     "name": "stdout",
     "output_type": "stream",
     "text": [
      "2    90900\n",
      "1     8866\n",
      "0     4592\n",
      "Name: image_type, dtype: int64\n"
     ]
    }
   ],
   "source": [
    "# count the number of images in each type\n",
    "print(full_gt['image_type'].value_counts())\n"
   ]
  },
  {
   "cell_type": "markdown",
   "metadata": {},
   "source": [
    "# Move images to validation and train directories"
   ]
  },
  {
   "cell_type": "code",
   "execution_count": 5,
   "metadata": {},
   "outputs": [],
   "source": [
    "# move all images from train_image_paths to train_images folder\n",
    "import shutil\n",
    "import os\n",
    "\n",
    "source_path = 'A:/Профиль/Rab Table/Учёба/3/анализ изображений/курс/files/train_images_for_small/'\n",
    "path = 'A:/Профиль/Rab Table/Учёба/3/анализ изображений/курс/files/train_images_small/'\n",
    "\n",
    "for image in train_image_paths:\n",
    "    shutil.move(source_path + image, path + image)"
   ]
  }
 ],
 "metadata": {
  "kernelspec": {
   "display_name": "Python 3",
   "language": "python",
   "name": "python3"
  },
  "language_info": {
   "codemirror_mode": {
    "name": "ipython",
    "version": 3
   },
   "file_extension": ".py",
   "mimetype": "text/x-python",
   "name": "python",
   "nbconvert_exporter": "python",
   "pygments_lexer": "ipython3",
   "version": "3.10.5"
  }
 },
 "nbformat": 4,
 "nbformat_minor": 2
}
